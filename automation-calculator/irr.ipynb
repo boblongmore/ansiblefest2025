{
 "cells": [
  {
   "cell_type": "code",
   "execution_count": 12,
   "metadata": {},
   "outputs": [],
   "source": [
    "import pandas as pd\n",
    "import numpy as np\n",
    "import numpy_financial as npf"
   ]
  },
  {
   "cell_type": "markdown",
   "metadata": {},
   "source": [
    "## Estimated values for calculation\n",
    "Input Time periods. How long do you want to calculate IRR. Over 5 years? Over 5 quarters?\n",
    "Input estimated costs to develop and maintain project. Should decrease and level off over time.\n",
    "Input expected benefits. The first period will be small, but will grow over time."
   ]
  },
  {
   "cell_type": "code",
   "execution_count": 13,
   "metadata": {},
   "outputs": [
    {
     "name": "stdout",
     "output_type": "stream",
     "text": [
      "['400000', '0', '0', '0', '0']\n"
     ]
    }
   ],
   "source": [
    "periods = input(\"Time Periods(year, quarter) :\")\n",
    "lifetime = 0\n",
    "estimated_costs = []\n",
    "while lifetime < 5:\n",
    "    c = input(f\"estimated cost for {periods} {lifetime}: \")\n",
    "    estimated_costs.append(c)\n",
    "    lifetime += 1\n",
    "print(estimated_costs)\n"
   ]
  },
  {
   "cell_type": "code",
   "execution_count": 14,
   "metadata": {},
   "outputs": [
    {
     "name": "stdout",
     "output_type": "stream",
     "text": [
      "['2000', '100000', '100000', '100000', '100000']\n"
     ]
    }
   ],
   "source": [
    "lifetime = 0\n",
    "estimated_benefits = []\n",
    "while lifetime < 5:\n",
    "    b = input(f\"estimated benefits for {periods} {lifetime}: \")\n",
    "    estimated_benefits.append(b)\n",
    "    lifetime += 1\n",
    "print(estimated_benefits)"
   ]
  },
  {
   "cell_type": "code",
   "execution_count": null,
   "metadata": {},
   "outputs": [
    {
     "name": "stdout",
     "output_type": "stream",
     "text": [
      "['2000', '100000', '100000', '100000', '100000']\n",
      "IRR: 0.14%\n"
     ]
    }
   ],
   "source": [
    "solution = npf.irr([-400000, 2000, 100000, 100000, 100000, 100000])\n",
    "print(estimated_benefits)\n",
    "print(f\"IRR: {float(solution * 100):.2%}\")"
   ]
  }
 ],
 "metadata": {
  "kernelspec": {
   "display_name": "Python 3",
   "language": "python",
   "name": "python3"
  },
  "language_info": {
   "codemirror_mode": {
    "name": "ipython",
    "version": 3
   },
   "file_extension": ".py",
   "mimetype": "text/x-python",
   "name": "python",
   "nbconvert_exporter": "python",
   "pygments_lexer": "ipython3",
   "version": "3.12.6"
  }
 },
 "nbformat": 4,
 "nbformat_minor": 2
}
